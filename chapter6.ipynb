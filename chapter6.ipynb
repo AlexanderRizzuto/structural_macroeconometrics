{
 "cells": [
  {
   "cell_type": "markdown",
   "id": "0a444f31-10b4-42bc-bd01-918b11593f72",
   "metadata": {},
   "source": [
    "# Chapter 6\n",
    "## Detrending\n",
    "\n",
    "\n"
   ]
  },
  {
   "cell_type": "markdown",
   "id": "d7545273-f7c4-43d0-900c-55e5de2ae184",
   "metadata": {},
   "source": [
    "### Figure 6.1"
   ]
  },
  {
   "cell_type": "code",
   "execution_count": 1,
   "id": "eb478a74-a510-4005-91bf-dd237699e731",
   "metadata": {
    "collapsed": true,
    "jupyter": {
     "outputs_hidden": true
    },
    "tags": []
   },
   "outputs": [
    {
     "name": "stderr",
     "output_type": "stream",
     "text": [
      "── \u001b[1mAttaching core tidyverse packages\u001b[22m ──────────────────────── tidyverse 2.0.0 ──\n",
      "\u001b[32m✔\u001b[39m \u001b[34mdplyr    \u001b[39m 1.1.2     \u001b[32m✔\u001b[39m \u001b[34mreadr    \u001b[39m 2.1.4\n",
      "\u001b[32m✔\u001b[39m \u001b[34mforcats  \u001b[39m 1.0.0     \u001b[32m✔\u001b[39m \u001b[34mstringr  \u001b[39m 1.5.0\n",
      "\u001b[32m✔\u001b[39m \u001b[34mggplot2  \u001b[39m 3.4.2     \u001b[32m✔\u001b[39m \u001b[34mtibble   \u001b[39m 3.2.1\n",
      "\u001b[32m✔\u001b[39m \u001b[34mlubridate\u001b[39m 1.9.2     \u001b[32m✔\u001b[39m \u001b[34mtidyr    \u001b[39m 1.3.0\n",
      "\u001b[32m✔\u001b[39m \u001b[34mpurrr    \u001b[39m 1.0.1     \n",
      "── \u001b[1mConflicts\u001b[22m ────────────────────────────────────────── tidyverse_conflicts() ──\n",
      "\u001b[31m✖\u001b[39m \u001b[34mdplyr\u001b[39m::\u001b[32mfilter()\u001b[39m masks \u001b[34mstats\u001b[39m::filter()\n",
      "\u001b[31m✖\u001b[39m \u001b[34mdplyr\u001b[39m::\u001b[32mlag()\u001b[39m    masks \u001b[34mstats\u001b[39m::lag()\n",
      "\u001b[36mℹ\u001b[39m Use the conflicted package (\u001b[3m\u001b[34m<http://conflicted.r-lib.org/>\u001b[39m\u001b[23m) to force all conflicts to become errors\n",
      "\n",
      "Attaching package: 'chron'\n",
      "\n",
      "\n",
      "The following objects are masked from 'package:lubridate':\n",
      "\n",
      "    days, hours, minutes, seconds, years\n",
      "\n",
      "\n",
      "Loading required package: PerformanceAnalytics\n",
      "\n",
      "Loading required package: xts\n",
      "\n",
      "Loading required package: zoo\n",
      "\n",
      "\n",
      "Attaching package: 'zoo'\n",
      "\n",
      "\n",
      "The following objects are masked from 'package:base':\n",
      "\n",
      "    as.Date, as.Date.numeric\n",
      "\n",
      "\n",
      "\n",
      "######################### Warning from 'xts' package ##########################\n",
      "#                                                                             #\n",
      "# The dplyr lag() function breaks how base R's lag() function is supposed to  #\n",
      "# work, which breaks lag(my_xts). Calls to lag(my_xts) that you type or       #\n",
      "# source() into this session won't work correctly.                            #\n",
      "#                                                                             #\n",
      "# Use stats::lag() to make sure you're not using dplyr::lag(), or you can add #\n",
      "# conflictRules('dplyr', exclude = 'lag') to your .Rprofile to stop           #\n",
      "# dplyr from breaking base R's lag() function.                                #\n",
      "#                                                                             #\n",
      "# Code in packages is not affected. It's protected by R's namespace mechanism #\n",
      "# Set `options(xts.warn_dplyr_breaks_lag = FALSE)` to suppress this warning.  #\n",
      "#                                                                             #\n",
      "###############################################################################\n",
      "\n",
      "\n",
      "Attaching package: 'xts'\n",
      "\n",
      "\n",
      "The following objects are masked from 'package:dplyr':\n",
      "\n",
      "    first, last\n",
      "\n",
      "\n",
      "\n",
      "Attaching package: 'PerformanceAnalytics'\n",
      "\n",
      "\n",
      "The following object is masked from 'package:graphics':\n",
      "\n",
      "    legend\n",
      "\n",
      "\n",
      "Loading required package: quantmod\n",
      "\n",
      "Loading required package: TTR\n",
      "\n",
      "Registered S3 method overwritten by 'quantmod':\n",
      "  method            from\n",
      "  as.zoo.data.frame zoo \n",
      "\n"
     ]
    }
   ],
   "source": [
    "################################ Preliminaries #################################\n",
    "# --- hoursekeeping ---\n",
    "remove(list = ls())\n",
    "\n",
    "# --- packages ---\n",
    "library(tidyverse)\n",
    "library(readxl)\n",
    "library(lubridate)\n",
    "library(naniar)\n",
    "library(chron)\n",
    "library(tidyquant)\n",
    "library(ggthemes)\n",
    "library(zoo)\n",
    "library(broom)\n",
    "\n",
    "# --- options ---\n",
    "options(scipen=999)"
   ]
  },
  {
   "cell_type": "code",
   "execution_count": 2,
   "id": "25c26c02-5737-4772-a8e6-b5c54e02e086",
   "metadata": {
    "tags": []
   },
   "outputs": [
    {
     "name": "stdout",
     "output_type": "stream",
     "text": [
      "Rows: 306\n",
      "Columns: 11\n",
      "$ observation_date \u001b[3m\u001b[90m<dttm>\u001b[39m\u001b[23m 1947-01-01, 1947-04-01, 1947-07-01, 1947-10-01, 1948…\n",
      "$ PCND             \u001b[3m\u001b[90m<dbl>\u001b[39m\u001b[23m 74.872, 76.897, 78.649, 79.965, 81.546, 83.169, 83.46…\n",
      "$ PCESV            \u001b[3m\u001b[90m<dbl>\u001b[39m\u001b[23m 60.567, 61.783, 63.124, 64.219, 65.279, 66.954, 68.33…\n",
      "$ PCDG             \u001b[3m\u001b[90m<dbl>\u001b[39m\u001b[23m 20.722, 21.351, 21.770, 23.488, 23.547, 24.019, 25.27…\n",
      "$ GPDI             \u001b[3m\u001b[90m<dbl>\u001b[39m\u001b[23m 35.854, 34.505, 34.911, 43.250, 47.202, 50.336, 52.51…\n",
      "$ DNDGRG3Q086SBEA  \u001b[3m\u001b[90m<dbl>\u001b[39m\u001b[23m 14.518, 14.659, 14.924, 15.375, 15.627, 15.784, 15.93…\n",
      "$ DSERRG3Q086SBEA  \u001b[3m\u001b[90m<dbl>\u001b[39m\u001b[23m 7.842, 7.885, 8.074, 8.257, 8.305, 8.387, 8.513, 8.54…\n",
      "$ GPDICTPI         \u001b[3m\u001b[90m<dbl>\u001b[39m\u001b[23m 16.536, 17.169, 17.740, 17.954, 18.185, 18.575, 19.08…\n",
      "$ DDURRG3Q086SBEA  \u001b[3m\u001b[90m<dbl>\u001b[39m\u001b[23m 46.500, 46.928, 47.190, 47.805, 48.170, 48.803, 50.50…\n",
      "$ HOANBS           \u001b[3m\u001b[90m<dbl>\u001b[39m\u001b[23m 45.842, 45.854, 45.980, 46.425, 46.720, 46.700, 47.02…\n",
      "$ CNP16OV          \u001b[3m\u001b[90m<dbl>\u001b[39m\u001b[23m NA, NA, NA, NA, 102690.7, 102915.3, 103249.0, 103417.…\n"
     ]
    }
   ],
   "source": [
    "################################ Reading in Data #################################\n",
    "fred <- read_xls(\"fredgraph_ch6.xls\", skip = 19)\n",
    "glimpse(fred)"
   ]
  },
  {
   "cell_type": "markdown",
   "id": "43b3fe5a-f2b3-435c-a106-db35c42c2e7f",
   "metadata": {},
   "source": [
    "The dataset is downloaded from FRED and contains the following quarterly series: a date column, four NIPA series in billions of current dollars (PCND, PCESV and PCDG are personal consumption of nondurable goods, of services and of durable goods, respectively, while GPDI is gross private domestic investment), the corresponding price indexes with base year 2012 (DNDGRG3Q086SBEA, DSERRG3Q086SBEA, DDURRG3Q086SBEA, GPDICTPI), hours worked in the nonfarm business sector (HOANBS) and population (CNP160V). \n",
    "\n",
    "Next, we make the following transformations:\n",
    "- population is scaled by its 2012 value;\n",
    "- consumption is calculated as the sum of consumption of nondurable goods and services;\n",
    "- nominal NIPA series are divided by the corresponding price indexes to obtain consumption and investment in real terms;\n",
    "- real output is computed as the sum of the just-derived real consumption and investment;\n",
    "- per capita values of consumption, investment, output and hours are derived;\n",
    "- finally, we take their logs. These real, per-capita, logged series are the ones shown in Figure 6.1, along with their trends;\n",
    "- we get rid of NAs (we discard some 1947 values and 2023 observations)."
   ]
  },
  {
   "cell_type": "code",
   "execution_count": 3,
   "id": "39fe99c2-d61a-4962-8028-d11d780c466a",
   "metadata": {
    "tags": []
   },
   "outputs": [
    {
     "name": "stdout",
     "output_type": "stream",
     "text": [
      "Rows: 301\n",
      "Columns: 29\n",
      "$ observation_date   \u001b[3m\u001b[90m<dttm>\u001b[39m\u001b[23m 1948-01-01, 1948-04-01, 1948-07-01, 1948-10-01, 19…\n",
      "$ PCND               \u001b[3m\u001b[90m<dbl>\u001b[39m\u001b[23m 81.546, 83.169, 83.465, 83.686, 82.731, 81.894, 80.…\n",
      "$ PCESV              \u001b[3m\u001b[90m<dbl>\u001b[39m\u001b[23m 65.279, 66.954, 68.330, 69.271, 69.664, 70.164, 70.…\n",
      "$ PCDG               \u001b[3m\u001b[90m<dbl>\u001b[39m\u001b[23m 23.547, 24.019, 25.277, 24.971, 24.436, 26.389, 27.…\n",
      "$ GPDI               \u001b[3m\u001b[90m<dbl>\u001b[39m\u001b[23m 47.202, 50.336, 52.516, 51.334, 43.140, 36.241, 39.…\n",
      "$ DNDGRG3Q086SBEA    \u001b[3m\u001b[90m<dbl>\u001b[39m\u001b[23m 15.627, 15.784, 15.937, 15.772, 15.532, 15.332, 15.…\n",
      "$ DSERRG3Q086SBEA    \u001b[3m\u001b[90m<dbl>\u001b[39m\u001b[23m 8.305, 8.387, 8.513, 8.544, 8.538, 8.556, 8.583, 8.…\n",
      "$ GPDICTPI           \u001b[3m\u001b[90m<dbl>\u001b[39m\u001b[23m 18.185, 18.575, 19.086, 19.195, 19.138, 19.104, 18.…\n",
      "$ DDURRG3Q086SBEA    \u001b[3m\u001b[90m<dbl>\u001b[39m\u001b[23m 48.170, 48.803, 50.501, 50.592, 50.422, 50.092, 49.…\n",
      "$ HOANBS             \u001b[3m\u001b[90m<dbl>\u001b[39m\u001b[23m 46.720, 46.700, 47.029, 46.597, 45.813, 45.059, 44.…\n",
      "$ CNP16OV            \u001b[3m\u001b[90m<dbl>\u001b[39m\u001b[23m 102690.7, 102915.3, 103249.0, 103417.7, 103584.3, 1…\n",
      "$ POPULATION         \u001b[3m\u001b[90m<dbl>\u001b[39m\u001b[23m 0.4221014, 0.4230249, 0.4243964, 0.4250897, 0.42577…\n",
      "$ NONDURABLES        \u001b[3m\u001b[90m<dbl>\u001b[39m\u001b[23m 5.218276, 5.269197, 5.237184, 5.305985, 5.326487, 5…\n",
      "$ SERVICES           \u001b[3m\u001b[90m<dbl>\u001b[39m\u001b[23m 7.860205, 7.983069, 8.026548, 8.107561, 8.159288, 8…\n",
      "$ INVESTMENT         \u001b[3m\u001b[90m<dbl>\u001b[39m\u001b[23m 259.5656, 270.9879, 275.1546, 267.4342, 225.4154, 1…\n",
      "$ DURABLES           \u001b[3m\u001b[90m<dbl>\u001b[39m\u001b[23m 0.4888312, 0.4921624, 0.5005247, 0.4935761, 0.48462…\n",
      "$ NCONSUMPTION       \u001b[3m\u001b[90m<dbl>\u001b[39m\u001b[23m 146.825, 150.123, 151.795, 152.957, 152.395, 152.05…\n",
      "$ CONSUMPTION        \u001b[3m\u001b[90m<dbl>\u001b[39m\u001b[23m 1307.848, 1325.227, 1326.373, 1341.355, 1348.578, 1…\n",
      "$ OUTPUT             \u001b[3m\u001b[90m<dbl>\u001b[39m\u001b[23m 1567.414, 1596.214, 1601.528, 1608.789, 1573.993, 1…\n",
      "$ HOURS              \u001b[3m\u001b[90m<dbl>\u001b[39m\u001b[23m 13.34857, 13.34286, 13.43686, 13.31343, 13.08943, 1…\n",
      "$ CONSUMPTION_pc     \u001b[3m\u001b[90m<dbl>\u001b[39m\u001b[23m 3098.421, 3132.739, 3125.317, 3155.462, 3167.349, 3…\n",
      "$ INVESTMENT_pc      \u001b[3m\u001b[90m<dbl>\u001b[39m\u001b[23m 614.9365, 640.5956, 648.3433, 629.1242, 529.4240, 4…\n",
      "$ DURABLES_pc        \u001b[3m\u001b[90m<dbl>\u001b[39m\u001b[23m 1.158089, 1.163436, 1.179380, 1.161110, 1.138230, 1…\n",
      "$ OUTPUT_pc          \u001b[3m\u001b[90m<dbl>\u001b[39m\u001b[23m 3713.358, 3773.334, 3773.660, 3784.587, 3696.773, 3…\n",
      "$ HOURS_pc           \u001b[3m\u001b[90m<dbl>\u001b[39m\u001b[23m 31.62408, 31.54154, 31.66110, 31.31910, 30.74261, 3…\n",
      "$ CONSUMPTION_pc_log \u001b[3m\u001b[90m<dbl>\u001b[39m\u001b[23m 8.038648, 8.049663, 8.047291, 8.056890, 8.060650, 8…\n",
      "$ INVESTMENT_pc_log  \u001b[3m\u001b[90m<dbl>\u001b[39m\u001b[23m 6.421519, 6.462398, 6.474420, 6.444329, 6.271790, 6…\n",
      "$ OUTPUT_pc_log      \u001b[3m\u001b[90m<dbl>\u001b[39m\u001b[23m 8.219692, 8.235714, 8.235801, 8.238692, 8.215216, 8…\n",
      "$ HOURS_pc_log       \u001b[3m\u001b[90m<dbl>\u001b[39m\u001b[23m 3.453919, 3.451305, 3.455089, 3.444228, 3.425650, 3…\n"
     ]
    }
   ],
   "source": [
    "################################ Data Wrangling and Manipulation #################################\n",
    "# --- find 2012 average for population ---\n",
    "base_year <- 2012\n",
    "base_year_average <- fred %>%\n",
    "  filter(year(observation_date) == base_year) %>%\n",
    "  summarise(base_year_average = mean(CNP16OV)) %>%\n",
    "  pull(base_year_average)\n",
    "\n",
    "# --- perform the transformations ---\n",
    "fred <- fred %>% na.omit() %>%\n",
    "  mutate(POPULATION = CNP16OV/base_year_average,\n",
    "         NONDURABLES = PCND/DNDGRG3Q086SBEA,\n",
    "         SERVICES = PCESV/DSERRG3Q086SBEA,\n",
    "         INVESTMENT = (GPDI/GPDICTPI)*100,\n",
    "         DURABLES = PCDG/DDURRG3Q086SBEA,\n",
    "         NCONSUMPTION = (PCND + PCESV), \n",
    "         CONSUMPTION = (NONDURABLES + SERVICES)*100, \n",
    "         OUTPUT = (CONSUMPTION+INVESTMENT),\n",
    "         HOURS = HOANBS/3.5,\n",
    "         across(c(CONSUMPTION,INVESTMENT,DURABLES,OUTPUT,HOURS),\n",
    "                ~ ./POPULATION,.names = \"{col}_pc\"),\n",
    "         across(c(CONSUMPTION_pc,INVESTMENT_pc,OUTPUT_pc,HOURS_pc),\n",
    "                ~ log(.),.names = \"{col}_log\") )\n",
    "\n",
    "glimpse(fred)"
   ]
  },
  {
   "cell_type": "markdown",
   "id": "9610b655-c8ce-45c2-b7eb-cc4b30f3765e",
   "metadata": {},
   "source": [
    "We save the variables and the sample shown in Figure 6.1."
   ]
  },
  {
   "cell_type": "code",
   "execution_count": 4,
   "id": "4e6c4ec6-8c0a-4362-b1c7-028e5ea239f1",
   "metadata": {
    "tags": []
   },
   "outputs": [],
   "source": [
    "# --- specifics for Figure 6.1 ---\n",
    "fig61_vars   <- c(\"OUTPUT_pc_log\",\"CONSUMPTION_pc_log\",\"INVESTMENT_pc_log\",\"HOURS_pc_log\")\n",
    "fig61_sample <- interval(ymd(\"1948-01-01\"),ymd(\"2010-01-01\"))"
   ]
  },
  {
   "cell_type": "markdown",
   "id": "5a858f72-4788-45cb-9aa3-d27323c26872",
   "metadata": {},
   "source": [
    "Let's check that we got the real, per-capita, log series right."
   ]
  },
  {
   "cell_type": "code",
   "execution_count": 5,
   "id": "58286c88-b7da-4b34-a157-6af0d9844c1e",
   "metadata": {
    "tags": []
   },
   "outputs": [
    {
     "data": {
      "image/png": "[encoded data removed]",
      "text/plain": [
       "plot without title"
      ]
     },
     "metadata": {
      "image/png": {
       "height": 420,
       "width": 420
      }
     },
     "output_type": "display_data"
    }
   ],
   "source": [
    "# --- first draft for Figure 6.1 ---\n",
    "fred %>% pivot_longer(!observation_date) %>%\n",
    "    filter(name %in% fig61_vars, observation_date %within% fig61_sample) %>%\n",
    "    ggplot(aes(x = observation_date, y = value)) +\n",
    "    geom_line(linewidth=1) +\n",
    "    facet_wrap(~ factor(name, levels = fig61_vars), scales = \"free\") +\n",
    "    labs(title = \"Original Series\",\n",
    "       y = \"\",x=\"\") +\n",
    "    theme_few()"
   ]
  },
  {
   "cell_type": "markdown",
   "id": "d19550a5-4d7d-4c0f-b301-f35daf9c4d2f",
   "metadata": {},
   "source": [
    "Even though we downloaded revised and updated data, not vintage data, it is hard to see any differences to Figure 6.1.\n",
    "\n",
    "Now, we perform our first **detrending** and save the resulting trend and residual."
   ]
  },
  {
   "cell_type": "code",
   "execution_count": 6,
   "id": "0947b197-1da6-4359-9fbc-2ee021617058",
   "metadata": {
    "tags": []
   },
   "outputs": [],
   "source": [
    "# --- loop over the three variables, detrend them for the period 1948Q1:2010Q1 and save the trend and residual component to fred ---\n",
    "for (var in fig61_vars) {\n",
    "  model <- lm(paste0(var, \" ~ observation_date\"), data = fred %>% filter(observation_date %within% fig61_sample))\n",
    "  fitted_values <- fitted(model)\n",
    "  residuals_values <- residuals(model)\n",
    "  \n",
    "  fred <- fred %>%\n",
    "    mutate(!!paste0(var, \"_fit10\") := ifelse(observation_date %within% fig61_sample, fitted_values, NA_real_),\n",
    "           !!paste0(var, \"_res10\") := ifelse(observation_date %within% fig61_sample, residuals_values, NA_real_)) %>%\n",
    "    ungroup()\n",
    "}"
   ]
  },
  {
   "cell_type": "markdown",
   "id": "6248e2f4-e567-496d-9488-3aa7cc259453",
   "metadata": {},
   "source": [
    "To display the trend on the same graph as the original series, we create a new data frame using pivot_longer() but instead of just having a date column, a variable name column and a value column, we add a fourth one such that we can assign the original values and the detrended one to the same name but differentiate between them based on the extra column."
   ]
  },
  {
   "cell_type": "code",
   "execution_count": 7,
   "id": "6ae93d2b-0ad1-4ac6-8e03-a4c2a7f71cf1",
   "metadata": {
    "tags": []
   },
   "outputs": [
    {
     "data": {
      "text/html": [
       "<table class=\"dataframe\">\n",
       "<caption>A tibble: 5 × 4</caption>\n",
       "<thead>\n",
       "\t<tr><th scope=col>observation_date</th><th scope=col>name</th><th scope=col>variable_type</th><th scope=col>value</th></tr>\n",
       "\t<tr><th scope=col>&lt;dttm&gt;</th><th scope=col>&lt;chr&gt;</th><th scope=col>&lt;chr&gt;</th><th scope=col>&lt;dbl&gt;</th></tr>\n",
       "</thead>\n",
       "<tbody>\n",
       "\t<tr><td>1980-10-01</td><td>OUTPUT_pc_log     </td><td>_fit10</td><td>8.931137</td></tr>\n",
       "\t<tr><td>1958-07-01</td><td>CONSUMPTION_pc_log</td><td>_fit10</td><td>8.315146</td></tr>\n",
       "\t<tr><td>2003-04-01</td><td>INVESTMENT_pc_log </td><td>      </td><td>7.807592</td></tr>\n",
       "\t<tr><td>2004-10-01</td><td>INVESTMENT_pc_log </td><td>_fit10</td><td>7.827739</td></tr>\n",
       "\t<tr><td>1972-07-01</td><td>HOURS_pc_log      </td><td>      </td><td>3.414162</td></tr>\n",
       "</tbody>\n",
       "</table>\n"
      ],
      "text/latex": [
       "A tibble: 5 × 4\n",
       "\\begin{tabular}{llll}\n",
       " observation\\_date & name & variable\\_type & value\\\\\n",
       " <dttm> & <chr> & <chr> & <dbl>\\\\\n",
       "\\hline\n",
       "\t 1980-10-01 & OUTPUT\\_pc\\_log      & \\_fit10 & 8.931137\\\\\n",
       "\t 1958-07-01 & CONSUMPTION\\_pc\\_log & \\_fit10 & 8.315146\\\\\n",
       "\t 2003-04-01 & INVESTMENT\\_pc\\_log  &        & 7.807592\\\\\n",
       "\t 2004-10-01 & INVESTMENT\\_pc\\_log  & \\_fit10 & 7.827739\\\\\n",
       "\t 1972-07-01 & HOURS\\_pc\\_log       &        & 3.414162\\\\\n",
       "\\end{tabular}\n"
      ],
      "text/markdown": [
       "\n",
       "A tibble: 5 × 4\n",
       "\n",
       "| observation_date &lt;dttm&gt; | name &lt;chr&gt; | variable_type &lt;chr&gt; | value &lt;dbl&gt; |\n",
       "|---|---|---|---|\n",
       "| 1980-10-01 | OUTPUT_pc_log      | _fit10 | 8.931137 |\n",
       "| 1958-07-01 | CONSUMPTION_pc_log | _fit10 | 8.315146 |\n",
       "| 2003-04-01 | INVESTMENT_pc_log  | <!----> | 7.807592 |\n",
       "| 2004-10-01 | INVESTMENT_pc_log  | _fit10 | 7.827739 |\n",
       "| 1972-07-01 | HOURS_pc_log       | <!----> | 3.414162 |\n",
       "\n"
      ],
      "text/plain": [
       "  observation_date name               variable_type value   \n",
       "1 1980-10-01       OUTPUT_pc_log      _fit10        8.931137\n",
       "2 1958-07-01       CONSUMPTION_pc_log _fit10        8.315146\n",
       "3 2003-04-01       INVESTMENT_pc_log                7.807592\n",
       "4 2004-10-01       INVESTMENT_pc_log  _fit10        7.827739\n",
       "5 1972-07-01       HOURS_pc_log                     3.414162"
      ]
     },
     "metadata": {},
     "output_type": "display_data"
    }
   ],
   "source": [
    "# --- create extra dataset for figure 6.1 ---\n",
    "fig61 <- fred %>% \n",
    "  filter(observation_date %within% fig61_sample) %>%\n",
    "  select(\"observation_date\",all_of(fig61_vars),paste(c(\"OUTPUT_pc_log\",\"CONSUMPTION_pc_log\",\"INVESTMENT_pc_log\"),\"_fit10\",sep = \"\")) %>%\n",
    "           pivot_longer(\n",
    "  cols = -observation_date,\n",
    "  names_to = c(\"name\", \"variable_type\"),\n",
    "  names_pattern = \"(.*_pc_log)(.*)\") \n",
    "\n",
    "# --- brief inspection ---\n",
    "sample_n(fig61, 5)"
   ]
  },
  {
   "cell_type": "markdown",
   "id": "4dd44a24-86f0-4843-aed3-175b77d58921",
   "metadata": {},
   "source": [
    "The replication of Figure 6.1 looks like this."
   ]
  },
  {
   "cell_type": "code",
   "execution_count": 8,
   "id": "02aac2ea-fd86-40c6-af2a-7263da15c0f8",
   "metadata": {
    "tags": []
   },
   "outputs": [
    {
     "data": {
      "image/png": "[encoded data removed]",
      "text/plain": [
       "plot without title"
      ]
     },
     "metadata": {
      "image/png": {
       "height": 420,
       "width": 420
      }
     },
     "output_type": "display_data"
    }
   ],
   "source": [
    "fig61 %>% ggplot(aes(x = observation_date, y = value, color = variable_type)) +\n",
    "    geom_line(linewidth=1) +\n",
    "    facet_wrap(~ factor(name, levels = fig61_vars), scales = \"free\") +\n",
    "    labs(title = \"Figure 6.1 (Updated and Revised Data)\",y = \"\",x=\"\") +\n",
    "    theme_few()"
   ]
  },
  {
   "cell_type": "markdown",
   "id": "625cff4e-ee11-4a74-a233-ec80d478cdcd",
   "metadata": {},
   "source": [
    "Repeating this exercise for the entire sample:"
   ]
  },
  {
   "cell_type": "code",
   "execution_count": 9,
   "id": "469a6d30-757a-4194-b5bd-b0c3d656d343",
   "metadata": {
    "tags": []
   },
   "outputs": [],
   "source": [
    "# --- loop over the three variables, detrend them for the period 1948Q1:2023Q1 and save the trend and residual component to fred ---\n",
    "for (var in fig61_vars) {\n",
    "  model <- lm(paste0(var, \" ~ observation_date\"), data = fred)\n",
    "  fitted_values <- fitted(model)\n",
    "  residuals_values <- residuals(model)\n",
    "  \n",
    "  fred <- fred %>%\n",
    "    mutate(!!paste0(var, \"_fit\") := fitted_values,\n",
    "           !!paste0(var, \"_res\") := residuals_values) %>%\n",
    "    ungroup()\n",
    "}"
   ]
  },
  {
   "cell_type": "code",
   "execution_count": 10,
   "id": "f8ab45fe-837e-486c-bb8f-d71a7c3d8d21",
   "metadata": {
    "tags": []
   },
   "outputs": [
    {
     "data": {
      "image/png": "[encoded data removed]",
      "text/plain": [
       "plot without title"
      ]
     },
     "metadata": {
      "image/png": {
       "height": 420,
       "width": 420
      }
     },
     "output_type": "display_data"
    }
   ],
   "source": [
    "fred %>% \n",
    "    select(\"observation_date\",all_of(fig61_vars),paste(c(\"OUTPUT_pc_log\",\"CONSUMPTION_pc_log\",\"INVESTMENT_pc_log\"),\"_fit\",sep = \"\")) %>%\n",
    "    pivot_longer(cols = -observation_date,\n",
    "                 names_to = c(\"name\", \"variable_type\"),\n",
    "                 names_pattern = \"(.*_pc_log)(.*)\") %>%\n",
    "    ggplot(aes(x = observation_date, y = value, color = variable_type)) +\n",
    "    geom_line(linewidth=1) +\n",
    "    facet_wrap(~ factor(name, levels = fig61_vars), scales = \"free\") +\n",
    "    labs(title = \"Figure 6.1 (Updated and Revised Data)\",y = \"\",x=\"\") +\n",
    "    theme_few()"
   ]
  }
 ],
 "metadata": {
  "kernelspec": {
   "display_name": "R",
   "language": "R",
   "name": "ir"
  },
  "language_info": {
   "codemirror_mode": "r",
   "file_extension": ".r",
   "mimetype": "text/x-r-source",
   "name": "R",
   "pygments_lexer": "r",
   "version": "4.3.1"
  }
 },
 "nbformat": 4,
 "nbformat_minor": 5
}
